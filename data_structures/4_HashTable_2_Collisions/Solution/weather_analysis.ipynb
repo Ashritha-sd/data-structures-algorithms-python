{
 "cells": [
  {
   "cell_type": "code",
   "execution_count": 36,
   "id": "491f70ff",
   "metadata": {},
   "outputs": [],
   "source": [
    "f=open('nyc_weather.csv', 'r')\n",
    "lst=[]"
   ]
  },
  {
   "cell_type": "code",
   "execution_count": 37,
   "id": "b689f60c",
   "metadata": {},
   "outputs": [],
   "source": [
    "f.readline()\n",
    "for x in f:\n",
    "    l=x.split(',')\n",
    "    lst.append(float(l[1]))"
   ]
  },
  {
   "cell_type": "code",
   "execution_count": 38,
   "id": "e6754556",
   "metadata": {},
   "outputs": [
    {
     "data": {
      "text/plain": [
       "[27.0, 31.0, 23.0, 34.0, 37.0, 38.0, 29.0, 30.0, 35.0, 30.0]"
      ]
     },
     "execution_count": 38,
     "metadata": {},
     "output_type": "execute_result"
    }
   ],
   "source": [
    "lst"
   ]
  },
  {
   "cell_type": "code",
   "execution_count": 39,
   "id": "32c56d77",
   "metadata": {},
   "outputs": [
    {
     "name": "stdout",
     "output_type": "stream",
     "text": [
      "Average temperature in first week of Jan: 31.285714285714285\n"
     ]
    }
   ],
   "source": [
    "print('Average temperature in first week of Jan:',sum(lst[:7])/7)"
   ]
  },
  {
   "cell_type": "code",
   "execution_count": 40,
   "id": "bc336d66",
   "metadata": {},
   "outputs": [
    {
     "name": "stdout",
     "output_type": "stream",
     "text": [
      "Maximum temperature in first ten days of Jan 38.0\n"
     ]
    }
   ],
   "source": [
    "print('Maximum temperature in first ten days of Jan',max(lst[:10]))"
   ]
  },
  {
   "cell_type": "code",
   "execution_count": 41,
   "id": "e84e7520",
   "metadata": {},
   "outputs": [],
   "source": [
    "#Figure out data structure that is best for this problem\n",
    "#List is best DS for the problem"
   ]
  },
  {
   "cell_type": "code",
   "execution_count": 44,
   "id": "32cd22c3",
   "metadata": {},
   "outputs": [],
   "source": [
    "f1=open('nyc_weather.csv', 'r')\n",
    "dic={}\n",
    "f1.readline()\n",
    "for x in f1:\n",
    "    l=x.split(',')\n",
    "    key=l[0]\n",
    "    value=float(l[1])\n",
    "    dic[key]=value"
   ]
  },
  {
   "cell_type": "code",
   "execution_count": 45,
   "id": "894ce061",
   "metadata": {},
   "outputs": [
    {
     "data": {
      "text/plain": [
       "{'Jan 1': 27.0,\n",
       " 'Jan 2': 31.0,\n",
       " 'Jan 3': 23.0,\n",
       " 'Jan 4': 34.0,\n",
       " 'Jan 5': 37.0,\n",
       " 'Jan 6': 38.0,\n",
       " 'Jan 7': 29.0,\n",
       " 'Jan 8': 30.0,\n",
       " 'Jan 9': 35.0,\n",
       " 'Jan 10': 30.0}"
      ]
     },
     "execution_count": 45,
     "metadata": {},
     "output_type": "execute_result"
    }
   ],
   "source": [
    "dic"
   ]
  },
  {
   "cell_type": "code",
   "execution_count": 46,
   "id": "817bee39",
   "metadata": {},
   "outputs": [
    {
     "name": "stdout",
     "output_type": "stream",
     "text": [
      "Temperature on Jan 9: 35.0\n"
     ]
    }
   ],
   "source": [
    "print(\"Temperature on Jan 9:\", dic['Jan 9'])\n"
   ]
  },
  {
   "cell_type": "code",
   "execution_count": 47,
   "id": "39ea960b",
   "metadata": {},
   "outputs": [
    {
     "name": "stdout",
     "output_type": "stream",
     "text": [
      "Temperature on Jan 4: 34.0\n"
     ]
    }
   ],
   "source": [
    "print(\"Temperature on Jan 4:\", dic['Jan 4'])"
   ]
  },
  {
   "cell_type": "code",
   "execution_count": null,
   "id": "5110c614",
   "metadata": {},
   "outputs": [],
   "source": [
    "#Figure out data structure that is best for this problem\n",
    "#Dict is the best DS for the problem"
   ]
  }
 ],
 "metadata": {
  "kernelspec": {
   "display_name": "Python 3 (ipykernel)",
   "language": "python",
   "name": "python3"
  },
  "language_info": {
   "codemirror_mode": {
    "name": "ipython",
    "version": 3
   },
   "file_extension": ".py",
   "mimetype": "text/x-python",
   "name": "python",
   "nbconvert_exporter": "python",
   "pygments_lexer": "ipython3",
   "version": "3.9.13"
  }
 },
 "nbformat": 4,
 "nbformat_minor": 5
}
