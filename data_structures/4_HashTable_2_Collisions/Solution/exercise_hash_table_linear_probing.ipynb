{
 "cells": [
  {
   "cell_type": "code",
   "execution_count": 278,
   "id": "a6ae6dbc",
   "metadata": {},
   "outputs": [],
   "source": [
    "class HashTable:\n",
    "    def __init__(self):\n",
    "        self.MAX=10\n",
    "        self.arr=[[] for i in range(self.MAX)]\n",
    "        \n",
    "    def get_hash(self, key):\n",
    "        hash = 0\n",
    "        for char in key:\n",
    "            hash += ord(char)\n",
    "        return hash % self.MAX  \n",
    "        \n",
    "    def __setitem__(self, key, val):\n",
    "        h=self.get_hash(key)\n",
    "        if(self.arr[h]==[] or (self.arr[h] and self.arr[h][0]==key)):\n",
    "            self.arr[h]=[key,val]\n",
    "            return\n",
    "        else:\n",
    "            \n",
    "            new_h=h\n",
    "            for i in range(self.MAX):\n",
    "                new_h=(new_h+1)%self.MAX\n",
    "                if(self.arr[new_h]==[] or (self.arr[new_h] and self.arr[new_h][0]==key)):    \n",
    "                    self.arr[new_h]=[key,val]\n",
    "                    return\n",
    "            raise Exception(\"No space available\")\n",
    "    def __getitem__(self,key):\n",
    "        h=self.get_hash(key)\n",
    "        for i in range(self.MAX):\n",
    "            if(self.arr[h]==[]):\n",
    "                raise Exception(\"Key not found\")\n",
    "            if(self.arr[h][0]==key):    \n",
    "                return self.arr[h][1]\n",
    "            h=(h+1)%self.MAX\n",
    "        raise Exception(\"Key not found\")\n",
    "    def __delitem__(self,key):\n",
    "        h=self.get_hash(key)\n",
    "        for i in range(self.MAX):\n",
    "            if(self.arr[h]==[]):\n",
    "                raise Exception(\"Key not found\")\n",
    "            if(self.arr[h][0]==key):\n",
    "                print('delete ', h)\n",
    "                self.arr[h]=[]\n",
    "                return\n",
    "            h=(h+1)%self.MAX\n",
    "        raise Exception(\"Key not found\")\n",
    "        \n",
    "        \n",
    "   "
   ]
  },
  {
   "cell_type": "code",
   "execution_count": 279,
   "id": "ad23e2e8",
   "metadata": {},
   "outputs": [],
   "source": [
    "t = HashTable()\n",
    "t[\"march 6\"] = 20\n",
    "t[\"march 17\"] =  88"
   ]
  },
  {
   "cell_type": "code",
   "execution_count": 280,
   "id": "f82acd2c",
   "metadata": {},
   "outputs": [
    {
     "data": {
      "text/plain": [
       "[['march 17', 88], [], [], [], [], [], [], [], [], ['march 6', 20]]"
      ]
     },
     "execution_count": 280,
     "metadata": {},
     "output_type": "execute_result"
    }
   ],
   "source": [
    "t.arr"
   ]
  },
  {
   "cell_type": "code",
   "execution_count": 281,
   "id": "5f82b1e8",
   "metadata": {},
   "outputs": [],
   "source": [
    "t[\"march 17\"] = 29"
   ]
  },
  {
   "cell_type": "code",
   "execution_count": 282,
   "id": "bf11890f",
   "metadata": {},
   "outputs": [
    {
     "data": {
      "text/plain": [
       "[['march 17', 29], [], [], [], [], [], [], [], [], ['march 6', 20]]"
      ]
     },
     "execution_count": 282,
     "metadata": {},
     "output_type": "execute_result"
    }
   ],
   "source": [
    "t.arr"
   ]
  },
  {
   "cell_type": "code",
   "execution_count": 283,
   "id": "55f7c206",
   "metadata": {},
   "outputs": [],
   "source": [
    "t[\"nov 1\"] = 1"
   ]
  },
  {
   "cell_type": "code",
   "execution_count": 284,
   "id": "8e759530",
   "metadata": {},
   "outputs": [
    {
     "data": {
      "text/plain": [
       "[['march 17', 29], ['nov 1', 1], [], [], [], [], [], [], [], ['march 6', 20]]"
      ]
     },
     "execution_count": 284,
     "metadata": {},
     "output_type": "execute_result"
    }
   ],
   "source": [
    "t.arr"
   ]
  },
  {
   "cell_type": "code",
   "execution_count": 285,
   "id": "ead1a909",
   "metadata": {},
   "outputs": [],
   "source": [
    "t[\"march 33\"] = 234"
   ]
  },
  {
   "cell_type": "code",
   "execution_count": 286,
   "id": "1e14d1f1",
   "metadata": {},
   "outputs": [
    {
     "data": {
      "text/plain": [
       "[['march 17', 29],\n",
       " ['nov 1', 1],\n",
       " [],\n",
       " [],\n",
       " [],\n",
       " [],\n",
       " [],\n",
       " ['march 33', 234],\n",
       " [],\n",
       " ['march 6', 20]]"
      ]
     },
     "execution_count": 286,
     "metadata": {},
     "output_type": "execute_result"
    }
   ],
   "source": [
    "t.arr"
   ]
  },
  {
   "cell_type": "code",
   "execution_count": 287,
   "id": "0e088dfa",
   "metadata": {},
   "outputs": [
    {
     "ename": "Exception",
     "evalue": "Key not found",
     "output_type": "error",
     "traceback": [
      "\u001b[0;31m---------------------------------------------------------------------------\u001b[0m",
      "\u001b[0;31mException\u001b[0m                                 Traceback (most recent call last)",
      "\u001b[0;32m/var/folders/23/k5mq0pjx1czd4m0nbfzmn7bh0000gn/T/ipykernel_24608/288701972.py\u001b[0m in \u001b[0;36m<module>\u001b[0;34m\u001b[0m\n\u001b[0;32m----> 1\u001b[0;31m \u001b[0mt\u001b[0m\u001b[0;34m[\u001b[0m\u001b[0;34m\"dec 1\"\u001b[0m\u001b[0;34m]\u001b[0m\u001b[0;34m\u001b[0m\u001b[0;34m\u001b[0m\u001b[0m\n\u001b[0m",
      "\u001b[0;32m/var/folders/23/k5mq0pjx1czd4m0nbfzmn7bh0000gn/T/ipykernel_24608/1153808451.py\u001b[0m in \u001b[0;36m__getitem__\u001b[0;34m(self, key)\u001b[0m\n\u001b[1;32m     28\u001b[0m         \u001b[0;32mfor\u001b[0m \u001b[0mi\u001b[0m \u001b[0;32min\u001b[0m \u001b[0mrange\u001b[0m\u001b[0;34m(\u001b[0m\u001b[0mself\u001b[0m\u001b[0;34m.\u001b[0m\u001b[0mMAX\u001b[0m\u001b[0;34m)\u001b[0m\u001b[0;34m:\u001b[0m\u001b[0;34m\u001b[0m\u001b[0;34m\u001b[0m\u001b[0m\n\u001b[1;32m     29\u001b[0m             \u001b[0;32mif\u001b[0m\u001b[0;34m(\u001b[0m\u001b[0mself\u001b[0m\u001b[0;34m.\u001b[0m\u001b[0marr\u001b[0m\u001b[0;34m[\u001b[0m\u001b[0mh\u001b[0m\u001b[0;34m]\u001b[0m\u001b[0;34m==\u001b[0m\u001b[0;34m[\u001b[0m\u001b[0;34m]\u001b[0m\u001b[0;34m)\u001b[0m\u001b[0;34m:\u001b[0m\u001b[0;34m\u001b[0m\u001b[0;34m\u001b[0m\u001b[0m\n\u001b[0;32m---> 30\u001b[0;31m                 \u001b[0;32mraise\u001b[0m \u001b[0mException\u001b[0m\u001b[0;34m(\u001b[0m\u001b[0;34m\"Key not found\"\u001b[0m\u001b[0;34m)\u001b[0m\u001b[0;34m\u001b[0m\u001b[0;34m\u001b[0m\u001b[0m\n\u001b[0m\u001b[1;32m     31\u001b[0m             \u001b[0;32mif\u001b[0m\u001b[0;34m(\u001b[0m\u001b[0mself\u001b[0m\u001b[0;34m.\u001b[0m\u001b[0marr\u001b[0m\u001b[0;34m[\u001b[0m\u001b[0mh\u001b[0m\u001b[0;34m]\u001b[0m\u001b[0;34m[\u001b[0m\u001b[0;36m0\u001b[0m\u001b[0;34m]\u001b[0m\u001b[0;34m==\u001b[0m\u001b[0mkey\u001b[0m\u001b[0;34m)\u001b[0m\u001b[0;34m:\u001b[0m\u001b[0;34m\u001b[0m\u001b[0;34m\u001b[0m\u001b[0m\n\u001b[1;32m     32\u001b[0m                 \u001b[0;32mreturn\u001b[0m \u001b[0mself\u001b[0m\u001b[0;34m.\u001b[0m\u001b[0marr\u001b[0m\u001b[0;34m[\u001b[0m\u001b[0mh\u001b[0m\u001b[0;34m]\u001b[0m\u001b[0;34m[\u001b[0m\u001b[0;36m1\u001b[0m\u001b[0;34m]\u001b[0m\u001b[0;34m\u001b[0m\u001b[0;34m\u001b[0m\u001b[0m\n",
      "\u001b[0;31mException\u001b[0m: Key not found"
     ]
    }
   ],
   "source": [
    "t[\"dec 1\"]"
   ]
  },
  {
   "cell_type": "code",
   "execution_count": 288,
   "id": "f79649e2",
   "metadata": {},
   "outputs": [
    {
     "data": {
      "text/plain": [
       "234"
      ]
     },
     "execution_count": 288,
     "metadata": {},
     "output_type": "execute_result"
    }
   ],
   "source": [
    "t[\"march 33\"]"
   ]
  },
  {
   "cell_type": "code",
   "execution_count": 289,
   "id": "c3709495",
   "metadata": {},
   "outputs": [],
   "source": [
    "t[\"march 33\"] = 999"
   ]
  },
  {
   "cell_type": "code",
   "execution_count": 290,
   "id": "ebfbef70",
   "metadata": {},
   "outputs": [
    {
     "data": {
      "text/plain": [
       "[['march 17', 29],\n",
       " ['nov 1', 1],\n",
       " [],\n",
       " [],\n",
       " [],\n",
       " [],\n",
       " [],\n",
       " ['march 33', 999],\n",
       " [],\n",
       " ['march 6', 20]]"
      ]
     },
     "execution_count": 290,
     "metadata": {},
     "output_type": "execute_result"
    }
   ],
   "source": [
    "t.arr"
   ]
  },
  {
   "cell_type": "code",
   "execution_count": 291,
   "id": "aee439c1",
   "metadata": {},
   "outputs": [
    {
     "data": {
      "text/plain": [
       "999"
      ]
     },
     "execution_count": 291,
     "metadata": {},
     "output_type": "execute_result"
    }
   ],
   "source": [
    "t[\"march 33\"]"
   ]
  },
  {
   "cell_type": "code",
   "execution_count": 292,
   "id": "c01e8117",
   "metadata": {},
   "outputs": [],
   "source": [
    "t[\"april 1\"]=87"
   ]
  },
  {
   "cell_type": "code",
   "execution_count": 293,
   "id": "6cd68b6e",
   "metadata": {},
   "outputs": [
    {
     "data": {
      "text/plain": [
       "[['march 17', 29],\n",
       " ['nov 1', 1],\n",
       " [],\n",
       " [],\n",
       " [],\n",
       " [],\n",
       " [],\n",
       " ['march 33', 999],\n",
       " ['april 1', 87],\n",
       " ['march 6', 20]]"
      ]
     },
     "execution_count": 293,
     "metadata": {},
     "output_type": "execute_result"
    }
   ],
   "source": [
    "t.arr"
   ]
  },
  {
   "cell_type": "code",
   "execution_count": 294,
   "id": "ff8c16d8",
   "metadata": {},
   "outputs": [],
   "source": [
    "t[\"april 2\"]=123"
   ]
  },
  {
   "cell_type": "code",
   "execution_count": 295,
   "id": "1341296d",
   "metadata": {},
   "outputs": [
    {
     "data": {
      "text/plain": [
       "[['march 17', 29],\n",
       " ['nov 1', 1],\n",
       " ['april 2', 123],\n",
       " [],\n",
       " [],\n",
       " [],\n",
       " [],\n",
       " ['march 33', 999],\n",
       " ['april 1', 87],\n",
       " ['march 6', 20]]"
      ]
     },
     "execution_count": 295,
     "metadata": {},
     "output_type": "execute_result"
    }
   ],
   "source": [
    "t.arr"
   ]
  },
  {
   "cell_type": "code",
   "execution_count": 296,
   "id": "80a91636",
   "metadata": {},
   "outputs": [],
   "source": [
    "t[\"april 3\"]=234234"
   ]
  },
  {
   "cell_type": "code",
   "execution_count": 297,
   "id": "80bdb959",
   "metadata": {},
   "outputs": [
    {
     "data": {
      "text/plain": [
       "[['march 17', 29],\n",
       " ['nov 1', 1],\n",
       " ['april 2', 123],\n",
       " ['april 3', 234234],\n",
       " [],\n",
       " [],\n",
       " [],\n",
       " ['march 33', 999],\n",
       " ['april 1', 87],\n",
       " ['march 6', 20]]"
      ]
     },
     "execution_count": 297,
     "metadata": {},
     "output_type": "execute_result"
    }
   ],
   "source": [
    "t.arr"
   ]
  },
  {
   "cell_type": "code",
   "execution_count": 298,
   "id": "7b29c6b6",
   "metadata": {},
   "outputs": [],
   "source": [
    "t[\"april 4\"]=91"
   ]
  },
  {
   "cell_type": "code",
   "execution_count": 299,
   "id": "bc14d6f7",
   "metadata": {},
   "outputs": [
    {
     "data": {
      "text/plain": [
       "[['march 17', 29],\n",
       " ['nov 1', 1],\n",
       " ['april 2', 123],\n",
       " ['april 3', 234234],\n",
       " ['april 4', 91],\n",
       " [],\n",
       " [],\n",
       " ['march 33', 999],\n",
       " ['april 1', 87],\n",
       " ['march 6', 20]]"
      ]
     },
     "execution_count": 299,
     "metadata": {},
     "output_type": "execute_result"
    }
   ],
   "source": [
    "t.arr"
   ]
  },
  {
   "cell_type": "code",
   "execution_count": 300,
   "id": "364955af",
   "metadata": {},
   "outputs": [],
   "source": [
    "t[\"May 22\"]=4"
   ]
  },
  {
   "cell_type": "code",
   "execution_count": 301,
   "id": "ba92f32d",
   "metadata": {},
   "outputs": [
    {
     "data": {
      "text/plain": [
       "[['march 17', 29],\n",
       " ['nov 1', 1],\n",
       " ['april 2', 123],\n",
       " ['april 3', 234234],\n",
       " ['april 4', 91],\n",
       " ['May 22', 4],\n",
       " [],\n",
       " ['march 33', 999],\n",
       " ['april 1', 87],\n",
       " ['march 6', 20]]"
      ]
     },
     "execution_count": 301,
     "metadata": {},
     "output_type": "execute_result"
    }
   ],
   "source": [
    "t.arr"
   ]
  },
  {
   "cell_type": "code",
   "execution_count": 302,
   "id": "1f3454bc",
   "metadata": {},
   "outputs": [],
   "source": [
    "t[\"May 7\"]=47"
   ]
  },
  {
   "cell_type": "code",
   "execution_count": 303,
   "id": "143dad02",
   "metadata": {},
   "outputs": [
    {
     "data": {
      "text/plain": [
       "[['march 17', 29],\n",
       " ['nov 1', 1],\n",
       " ['april 2', 123],\n",
       " ['april 3', 234234],\n",
       " ['april 4', 91],\n",
       " ['May 22', 4],\n",
       " ['May 7', 47],\n",
       " ['march 33', 999],\n",
       " ['april 1', 87],\n",
       " ['march 6', 20]]"
      ]
     },
     "execution_count": 303,
     "metadata": {},
     "output_type": "execute_result"
    }
   ],
   "source": [
    "t.arr"
   ]
  },
  {
   "cell_type": "code",
   "execution_count": 304,
   "id": "b7757b0e",
   "metadata": {},
   "outputs": [
    {
     "ename": "Exception",
     "evalue": "No space available",
     "output_type": "error",
     "traceback": [
      "\u001b[0;31m---------------------------------------------------------------------------\u001b[0m",
      "\u001b[0;31mException\u001b[0m                                 Traceback (most recent call last)",
      "\u001b[0;32m/var/folders/23/k5mq0pjx1czd4m0nbfzmn7bh0000gn/T/ipykernel_24608/1223874474.py\u001b[0m in \u001b[0;36m<module>\u001b[0;34m\u001b[0m\n\u001b[0;32m----> 1\u001b[0;31m \u001b[0mt\u001b[0m\u001b[0;34m[\u001b[0m\u001b[0;34m\"Jan 1\"\u001b[0m\u001b[0;34m]\u001b[0m\u001b[0;34m=\u001b[0m\u001b[0;36m0\u001b[0m\u001b[0;34m\u001b[0m\u001b[0;34m\u001b[0m\u001b[0m\n\u001b[0m",
      "\u001b[0;32m/var/folders/23/k5mq0pjx1czd4m0nbfzmn7bh0000gn/T/ipykernel_24608/1153808451.py\u001b[0m in \u001b[0;36m__setitem__\u001b[0;34m(self, key, val)\u001b[0m\n\u001b[1;32m     23\u001b[0m                     \u001b[0mself\u001b[0m\u001b[0;34m.\u001b[0m\u001b[0marr\u001b[0m\u001b[0;34m[\u001b[0m\u001b[0mnew_h\u001b[0m\u001b[0;34m]\u001b[0m\u001b[0;34m=\u001b[0m\u001b[0;34m[\u001b[0m\u001b[0mkey\u001b[0m\u001b[0;34m,\u001b[0m\u001b[0mval\u001b[0m\u001b[0;34m]\u001b[0m\u001b[0;34m\u001b[0m\u001b[0;34m\u001b[0m\u001b[0m\n\u001b[1;32m     24\u001b[0m                     \u001b[0;32mreturn\u001b[0m\u001b[0;34m\u001b[0m\u001b[0;34m\u001b[0m\u001b[0m\n\u001b[0;32m---> 25\u001b[0;31m             \u001b[0;32mraise\u001b[0m \u001b[0mException\u001b[0m\u001b[0;34m(\u001b[0m\u001b[0;34m\"No space available\"\u001b[0m\u001b[0;34m)\u001b[0m\u001b[0;34m\u001b[0m\u001b[0;34m\u001b[0m\u001b[0m\n\u001b[0m\u001b[1;32m     26\u001b[0m     \u001b[0;32mdef\u001b[0m \u001b[0m__getitem__\u001b[0m\u001b[0;34m(\u001b[0m\u001b[0mself\u001b[0m\u001b[0;34m,\u001b[0m\u001b[0mkey\u001b[0m\u001b[0;34m)\u001b[0m\u001b[0;34m:\u001b[0m\u001b[0;34m\u001b[0m\u001b[0;34m\u001b[0m\u001b[0m\n\u001b[1;32m     27\u001b[0m         \u001b[0mh\u001b[0m\u001b[0;34m=\u001b[0m\u001b[0mself\u001b[0m\u001b[0;34m.\u001b[0m\u001b[0mget_hash\u001b[0m\u001b[0;34m(\u001b[0m\u001b[0mkey\u001b[0m\u001b[0;34m)\u001b[0m\u001b[0;34m\u001b[0m\u001b[0;34m\u001b[0m\u001b[0m\n",
      "\u001b[0;31mException\u001b[0m: No space available"
     ]
    }
   ],
   "source": [
    "t[\"Jan 1\"]=0"
   ]
  },
  {
   "cell_type": "code",
   "execution_count": 305,
   "id": "d6d17ffd",
   "metadata": {},
   "outputs": [
    {
     "name": "stdout",
     "output_type": "stream",
     "text": [
      "delete  2\n"
     ]
    }
   ],
   "source": [
    "del t[\"april 2\"]"
   ]
  },
  {
   "cell_type": "code",
   "execution_count": 306,
   "id": "9898d002",
   "metadata": {},
   "outputs": [
    {
     "data": {
      "text/plain": [
       "[['march 17', 29],\n",
       " ['nov 1', 1],\n",
       " [],\n",
       " ['april 3', 234234],\n",
       " ['april 4', 91],\n",
       " ['May 22', 4],\n",
       " ['May 7', 47],\n",
       " ['march 33', 999],\n",
       " ['april 1', 87],\n",
       " ['march 6', 20]]"
      ]
     },
     "execution_count": 306,
     "metadata": {},
     "output_type": "execute_result"
    }
   ],
   "source": [
    "t.arr"
   ]
  },
  {
   "cell_type": "code",
   "execution_count": 307,
   "id": "0310016a",
   "metadata": {},
   "outputs": [],
   "source": [
    "t[\"Jan 1\"]=0"
   ]
  },
  {
   "cell_type": "code",
   "execution_count": 308,
   "id": "8e87faed",
   "metadata": {},
   "outputs": [
    {
     "data": {
      "text/plain": [
       "[['march 17', 29],\n",
       " ['nov 1', 1],\n",
       " ['Jan 1', 0],\n",
       " ['april 3', 234234],\n",
       " ['april 4', 91],\n",
       " ['May 22', 4],\n",
       " ['May 7', 47],\n",
       " ['march 33', 999],\n",
       " ['april 1', 87],\n",
       " ['march 6', 20]]"
      ]
     },
     "execution_count": 308,
     "metadata": {},
     "output_type": "execute_result"
    }
   ],
   "source": [
    "t.arr"
   ]
  },
  {
   "cell_type": "code",
   "execution_count": null,
   "id": "b461442d",
   "metadata": {},
   "outputs": [],
   "source": []
  }
 ],
 "metadata": {
  "kernelspec": {
   "display_name": "Python 3 (ipykernel)",
   "language": "python",
   "name": "python3"
  },
  "language_info": {
   "codemirror_mode": {
    "name": "ipython",
    "version": 3
   },
   "file_extension": ".py",
   "mimetype": "text/x-python",
   "name": "python",
   "nbconvert_exporter": "python",
   "pygments_lexer": "ipython3",
   "version": "3.9.13"
  }
 },
 "nbformat": 4,
 "nbformat_minor": 5
}
